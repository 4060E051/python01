{
  "nbformat": 4,
  "nbformat_minor": 0,
  "metadata": {
    "anaconda-cloud": {},
    "kernelspec": {
      "display_name": "Python 3",
      "language": "python",
      "name": "python3"
    },
    "language_info": {
      "codemirror_mode": {
        "name": "ipython",
        "version": 3
      },
      "file_extension": ".py",
      "mimetype": "text/x-python",
      "name": "python",
      "nbconvert_exporter": "python",
      "pygments_lexer": "ipython3",
      "version": "3.6.1"
    },
    "colab": {
      "name": "「20200921.ipynb」的副本",
      "provenance": [],
      "include_colab_link": true
    }
  },
  "cells": [
    {
      "cell_type": "markdown",
      "metadata": {
        "id": "view-in-github",
        "colab_type": "text"
      },
      "source": [
        "<a href=\"https://colab.research.google.com/github/4060E051/python01/blob/master/%E3%80%8C20200921_ipynb%E3%80%8D%E7%9A%84%E5%89%AF%E6%9C%AC.ipynb\" target=\"_parent\"><img src=\"https://colab.research.google.com/assets/colab-badge.svg\" alt=\"Open In Colab\"/></a>"
      ]
    },
    {
      "cell_type": "markdown",
      "metadata": {
        "id": "aBdvMt7ta3s3"
      },
      "source": [
        "# Configuring pandas"
      ]
    },
    {
      "cell_type": "code",
      "metadata": {
        "id": "oU5kW3eQa6Tg",
        "outputId": "f84f7e31-031a-48a6-f009-0fd708b481a3",
        "colab": {
          "base_uri": "https://localhost:8080/",
          "height": 204
        }
      },
      "source": [
        "!wget https://raw.githubusercontent.com/PacktPublishing/Learning-Pandas-Second-Edition/master/data/sp500.csv\n"
      ],
      "execution_count": null,
      "outputs": [
        {
          "output_type": "stream",
          "text": [
            "--2020-09-21 11:44:26--  https://raw.githubusercontent.com/PacktPublishing/Learning-Pandas-Second-Edition/master/data/sp500.csv\n",
            "Resolving raw.githubusercontent.com (raw.githubusercontent.com)... 151.101.0.133, 151.101.64.133, 151.101.128.133, ...\n",
            "Connecting to raw.githubusercontent.com (raw.githubusercontent.com)|151.101.0.133|:443... connected.\n",
            "HTTP request sent, awaiting response... 200 OK\n",
            "Length: 83629 (82K) [text/plain]\n",
            "Saving to: ‘sp500.csv’\n",
            "\n",
            "\rsp500.csv             0%[                    ]       0  --.-KB/s               \rsp500.csv           100%[===================>]  81.67K  --.-KB/s    in 0.03s   \n",
            "\n",
            "2020-09-21 11:44:26 (2.86 MB/s) - ‘sp500.csv’ saved [83629/83629]\n",
            "\n"
          ],
          "name": "stdout"
        }
      ]
    },
    {
      "cell_type": "code",
      "metadata": {
        "id": "rfiisNpXbAzX",
        "outputId": "307b343a-c86e-45c1-9a10-523a5abf1080",
        "colab": {
          "base_uri": "https://localhost:8080/",
          "height": 204
        }
      },
      "source": [
        "!wget https://raw.githubusercontent.com/PacktPublishing/Learning-Pandas-Second-Edition/master/data/omh.csv"
      ],
      "execution_count": null,
      "outputs": [
        {
          "output_type": "stream",
          "text": [
            "--2020-09-21 11:44:29--  https://raw.githubusercontent.com/PacktPublishing/Learning-Pandas-Second-Edition/master/data/omh.csv\n",
            "Resolving raw.githubusercontent.com (raw.githubusercontent.com)... 151.101.0.133, 151.101.64.133, 151.101.128.133, ...\n",
            "Connecting to raw.githubusercontent.com (raw.githubusercontent.com)|151.101.0.133|:443... connected.\n",
            "HTTP request sent, awaiting response... 200 OK\n",
            "Length: 539 [text/plain]\n",
            "Saving to: ‘omh.csv’\n",
            "\n",
            "\romh.csv               0%[                    ]       0  --.-KB/s               \romh.csv             100%[===================>]     539  --.-KB/s    in 0s      \n",
            "\n",
            "2020-09-21 11:44:29 (13.6 MB/s) - ‘omh.csv’ saved [539/539]\n",
            "\n"
          ],
          "name": "stdout"
        }
      ]
    },
    {
      "cell_type": "code",
      "metadata": {
        "id": "bdmQCwtvbDhX",
        "outputId": "288d6edc-54f4-4718-d687-488593e7db46",
        "colab": {
          "base_uri": "https://localhost:8080/",
          "height": 34
        }
      },
      "source": [
        "ls"
      ],
      "execution_count": null,
      "outputs": [
        {
          "output_type": "stream",
          "text": [
            "omh.csv  \u001b[0m\u001b[01;34msample_data\u001b[0m/  sp500.csv\n"
          ],
          "name": "stdout"
        }
      ]
    },
    {
      "cell_type": "code",
      "metadata": {
        "id": "eLTe6P3Ma3s4"
      },
      "source": [
        "# import numpy and pandas\n",
        "import numpy as np\n",
        "import pandas as pd\n",
        "\n",
        "# used for dates\n",
        "import datetime\n",
        "from datetime import datetime, date\n",
        "\n",
        "# Set formattign options\n",
        "pd.set_option('display.notebook_repr_html', False)\n",
        "pd.set_option('display.max_columns', 7)\n",
        "pd.set_option('display.max_rows', 10)\n",
        "pd.set_option('display.width', 60)\n",
        "\n",
        "# bring in matplotlib for graphics\n",
        "import matplotlib.pyplot as plt\n",
        "%matplotlib inline\n",
        "\n",
        "# read in the data and print the first five rows\n",
        "# use the Symbol column as the index, and \n",
        "# only read in columns in positions 0, 2, 3, 7\n",
        "sp500 = pd.read_csv(\"sp500.csv\", \n",
        "                    index_col='Symbol', \n",
        "                    usecols=[0, 2, 3, 7])\n",
        "\n",
        "# one month of stock history data\n",
        "omh = pd.read_csv(\"omh.csv\")"
      ],
      "execution_count": null,
      "outputs": []
    },
    {
      "cell_type": "markdown",
      "metadata": {
        "id": "0t-8AZtTa3s7"
      },
      "source": [
        "# Performing arithmetic on a DataFrame or Series"
      ]
    },
    {
      "cell_type": "code",
      "metadata": {
        "id": "_ivLNHyxa3s7",
        "outputId": "06887310-58eb-48c7-ab0a-37c4fb572e01",
        "colab": {
          "base_uri": "https://localhost:8080/",
          "height": 119
        }
      },
      "source": [
        "# set the seed to allow replicatable results\n",
        "np.random.seed(123456)\n",
        "# create the DataFrame\n",
        "df = pd.DataFrame(np.random.randn(5, 4), \n",
        "                  columns=['A', 'B', 'C', 'D'])\n",
        "df"
      ],
      "execution_count": null,
      "outputs": [
        {
          "output_type": "execute_result",
          "data": {
            "text/plain": [
              "          A         B         C         D\n",
              "0  0.469112 -0.282863 -1.509059 -1.135632\n",
              "1  1.212112 -0.173215  0.119209 -1.044236\n",
              "2 -0.861849 -2.104569 -0.494929  1.071804\n",
              "3  0.721555 -0.706771 -1.039575  0.271860\n",
              "4 -0.424972  0.567020  0.276232 -1.087401"
            ]
          },
          "metadata": {
            "tags": []
          },
          "execution_count": 18
        }
      ]
    },
    {
      "cell_type": "code",
      "metadata": {
        "id": "5avWk_X8a3s-",
        "outputId": "bcfc1153-dac1-49e7-a56e-b82261b55d1b",
        "colab": {
          "base_uri": "https://localhost:8080/",
          "height": 119
        }
      },
      "source": [
        "# multiply everything by 2\n",
        "df * 2"
      ],
      "execution_count": null,
      "outputs": [
        {
          "output_type": "execute_result",
          "data": {
            "text/plain": [
              "          A         B         C         D\n",
              "0  0.938225 -0.565727 -3.018117 -2.271265\n",
              "1  2.424224 -0.346429  0.238417 -2.088472\n",
              "2 -1.723698 -4.209138 -0.989859  2.143608\n",
              "3  1.443110 -1.413542 -2.079150  0.543720\n",
              "4 -0.849945  1.134041  0.552464 -2.174801"
            ]
          },
          "metadata": {
            "tags": []
          },
          "execution_count": 3
        }
      ]
    },
    {
      "cell_type": "code",
      "metadata": {
        "id": "po3M3iUSa3tA",
        "outputId": "e6da2de3-6447-44e2-9d7b-370e48e70c48",
        "colab": {
          "base_uri": "https://localhost:8080/",
          "height": 119
        }
      },
      "source": [
        "# get first row \n",
        "s = df.iloc[0] \n",
        "# subtract first row from every row of the DataFrame\n",
        "diff = df - s \n",
        "diff"
      ],
      "execution_count": null,
      "outputs": [
        {
          "output_type": "execute_result",
          "data": {
            "text/plain": [
              "          A         B         C         D\n",
              "0  0.000000  0.000000  0.000000  0.000000\n",
              "1  0.743000  0.109649  1.628267  0.091396\n",
              "2 -1.330961 -1.821706  1.014129  2.207436\n",
              "3  0.252443 -0.423908  0.469484  1.407492\n",
              "4 -0.894085  0.849884  1.785291  0.048232"
            ]
          },
          "metadata": {
            "tags": []
          },
          "execution_count": 4
        }
      ]
    },
    {
      "cell_type": "code",
      "metadata": {
        "id": "zRrQsd_Xa3tC",
        "outputId": "f041525c-1464-496c-9459-2a3aa88755af",
        "colab": {
          "base_uri": "https://localhost:8080/",
          "height": 119
        }
      },
      "source": [
        "# subtract DataFrame from Series\n",
        "diff2 = s - df\n",
        "diff2"
      ],
      "execution_count": null,
      "outputs": [
        {
          "output_type": "execute_result",
          "data": {
            "text/plain": [
              "          A         B         C         D\n",
              "0  0.000000  0.000000  0.000000  0.000000\n",
              "1 -0.743000 -0.109649 -1.628267 -0.091396\n",
              "2  1.330961  1.821706 -1.014129 -2.207436\n",
              "3 -0.252443  0.423908 -0.469484 -1.407492\n",
              "4  0.894085 -0.849884 -1.785291 -0.048232"
            ]
          },
          "metadata": {
            "tags": []
          },
          "execution_count": 5
        }
      ]
    },
    {
      "cell_type": "code",
      "metadata": {
        "id": "htMC9WW8a3tE",
        "outputId": "b9d0bd03-d0ae-4199-9266-1e1b06b265ce",
        "colab": {
          "base_uri": "https://localhost:8080/",
          "height": 119
        }
      },
      "source": [
        "# B, C\n",
        "s2 = s[1:3]\n",
        "# add E\n",
        "s2['E'] = 0\n",
        "# see how alignment is applied in math\n",
        "df + s2"
      ],
      "execution_count": null,
      "outputs": [
        {
          "output_type": "execute_result",
          "data": {
            "text/plain": [
              "    A         B         C   D   E\n",
              "0 NaN -0.565727 -3.018117 NaN NaN\n",
              "1 NaN -0.456078 -1.389850 NaN NaN\n",
              "2 NaN -2.387433 -2.003988 NaN NaN\n",
              "3 NaN -0.989634 -2.548633 NaN NaN\n",
              "4 NaN  0.284157 -1.232826 NaN NaN"
            ]
          },
          "metadata": {
            "tags": []
          },
          "execution_count": 6
        }
      ]
    },
    {
      "cell_type": "code",
      "metadata": {
        "id": "TeeifL3fa3tG",
        "outputId": "de9092c7-0ba6-4663-9410-41a090fbc129",
        "colab": {
          "base_uri": "https://localhost:8080/",
          "height": 85
        }
      },
      "source": [
        "# get rows 1 through three, and only B, C columns\n",
        "subframe = df[1:4][['B', 'C']]\n",
        "# we have extracted a little square in the middle of df\n",
        "subframe"
      ],
      "execution_count": null,
      "outputs": [
        {
          "output_type": "execute_result",
          "data": {
            "text/plain": [
              "          B         C\n",
              "1 -0.173215  0.119209\n",
              "2 -2.104569 -0.494929\n",
              "3 -0.706771 -1.039575"
            ]
          },
          "metadata": {
            "tags": []
          },
          "execution_count": 7
        }
      ]
    },
    {
      "cell_type": "code",
      "metadata": {
        "id": "E-hTr65Fa3tI",
        "outputId": "6217da42-9cda-435d-d151-167c5c638409",
        "colab": {
          "base_uri": "https://localhost:8080/",
          "height": 119
        }
      },
      "source": [
        "# demonstrate the alignment of the subtraction\n",
        "df - subframe"
      ],
      "execution_count": null,
      "outputs": [
        {
          "output_type": "execute_result",
          "data": {
            "text/plain": [
              "    A    B    C   D\n",
              "0 NaN  NaN  NaN NaN\n",
              "1 NaN  0.0  0.0 NaN\n",
              "2 NaN  0.0  0.0 NaN\n",
              "3 NaN  0.0  0.0 NaN\n",
              "4 NaN  NaN  NaN NaN"
            ]
          },
          "metadata": {
            "tags": []
          },
          "execution_count": 8
        }
      ]
    },
    {
      "cell_type": "code",
      "metadata": {
        "id": "sfS_nJZJa3tK",
        "outputId": "4f3eb4f4-8ac6-4522-82c6-7556f4570aa3",
        "colab": {
          "base_uri": "https://localhost:8080/",
          "height": 119
        }
      },
      "source": [
        "# get the A column\n",
        "a_col = df['A']\n",
        "df.sub(a_col, axis=0)"
      ],
      "execution_count": null,
      "outputs": [
        {
          "output_type": "execute_result",
          "data": {
            "text/plain": [
              "     A         B         C         D\n",
              "0  0.0 -0.751976 -1.978171 -1.604745\n",
              "1  0.0 -1.385327 -1.092903 -2.256348\n",
              "2  0.0 -1.242720  0.366920  1.933653\n",
              "3  0.0 -1.428326 -1.761130 -0.449695\n",
              "4  0.0  0.991993  0.701204 -0.662428"
            ]
          },
          "metadata": {
            "tags": []
          },
          "execution_count": 9
        }
      ]
    },
    {
      "cell_type": "markdown",
      "metadata": {
        "id": "1k3mqxoba3tM"
      },
      "source": [
        "# Counts of values"
      ]
    },
    {
      "cell_type": "code",
      "metadata": {
        "id": "dF9ZwvAwa3tM",
        "outputId": "89865e83-53b9-4564-930e-be23307ae740",
        "colab": {
          "base_uri": "https://localhost:8080/",
          "height": 34
        }
      },
      "source": [
        "s = pd.Series(['a', 'a', 'b', 'c', np.NaN])\n",
        "# number of occurrences of each unique value\n",
        "s.count()"
      ],
      "execution_count": null,
      "outputs": [
        {
          "output_type": "execute_result",
          "data": {
            "text/plain": [
              "4"
            ]
          },
          "metadata": {
            "tags": []
          },
          "execution_count": 10
        }
      ]
    },
    {
      "cell_type": "markdown",
      "metadata": {
        "id": "9he2ALnta3tO"
      },
      "source": [
        "# Unique and number of unique values"
      ]
    },
    {
      "cell_type": "code",
      "metadata": {
        "id": "RXQBvQVBa3tO",
        "outputId": "4c6ed279-78c1-49fe-93fa-81d17739e8ce",
        "colab": {
          "base_uri": "https://localhost:8080/",
          "height": 34
        }
      },
      "source": [
        "# return a list of unique items\n",
        "s.unique()"
      ],
      "execution_count": null,
      "outputs": [
        {
          "output_type": "execute_result",
          "data": {
            "text/plain": [
              "array(['a', 'b', 'c', nan], dtype=object)"
            ]
          },
          "metadata": {
            "tags": []
          },
          "execution_count": 11
        }
      ]
    },
    {
      "cell_type": "code",
      "metadata": {
        "id": "O1kFY4M_a3tQ",
        "outputId": "17c95799-e21d-45c5-97af-d63a1ccf60b8",
        "colab": {
          "base_uri": "https://localhost:8080/",
          "height": 34
        }
      },
      "source": [
        "s.nunique()"
      ],
      "execution_count": null,
      "outputs": [
        {
          "output_type": "execute_result",
          "data": {
            "text/plain": [
              "3"
            ]
          },
          "metadata": {
            "tags": []
          },
          "execution_count": 12
        }
      ]
    },
    {
      "cell_type": "code",
      "metadata": {
        "id": "cN54yQYka3tS",
        "outputId": "8f98d6a0-6d3b-4838-c97f-8cb2cd97f452",
        "colab": {
          "base_uri": "https://localhost:8080/",
          "height": 34
        }
      },
      "source": [
        "s.nunique(dropna=False)"
      ],
      "execution_count": null,
      "outputs": [
        {
          "output_type": "execute_result",
          "data": {
            "text/plain": [
              "4"
            ]
          },
          "metadata": {
            "tags": []
          },
          "execution_count": 13
        }
      ]
    },
    {
      "cell_type": "code",
      "metadata": {
        "id": "RQWzFzM9a3tT",
        "outputId": "1ce6dfd2-9fc3-4987-cd54-d503549553b9",
        "colab": {
          "base_uri": "https://localhost:8080/",
          "height": 102
        }
      },
      "source": [
        "# get summary stats on non-numeric data\n",
        "s.value_counts(dropna=False)"
      ],
      "execution_count": null,
      "outputs": [
        {
          "output_type": "execute_result",
          "data": {
            "text/plain": [
              "a      2\n",
              "b      1\n",
              "c      1\n",
              "NaN    1\n",
              "dtype: int64"
            ]
          },
          "metadata": {
            "tags": []
          },
          "execution_count": 14
        }
      ]
    },
    {
      "cell_type": "markdown",
      "metadata": {
        "id": "XfTKceOMa3tV"
      },
      "source": [
        "# Minimum and maximums"
      ]
    },
    {
      "cell_type": "code",
      "metadata": {
        "id": "bU_aLvm8a3tV",
        "outputId": "24f995c5-b036-4d47-bbb3-9bb7a077bd19",
        "colab": {
          "base_uri": "https://localhost:8080/",
          "height": 68
        }
      },
      "source": [
        "# location of min price for both stocks\n",
        "omh[['MSFT', 'AAPL']].min()"
      ],
      "execution_count": null,
      "outputs": [
        {
          "output_type": "execute_result",
          "data": {
            "text/plain": [
              "MSFT     45.16\n",
              "AAPL    106.75\n",
              "dtype: float64"
            ]
          },
          "metadata": {
            "tags": []
          },
          "execution_count": 23
        }
      ]
    },
    {
      "cell_type": "code",
      "metadata": {
        "id": "AMe0LdAZa3tX",
        "outputId": "254106f3-921e-4cbf-d549-476701673c91",
        "colab": {
          "base_uri": "https://localhost:8080/",
          "height": 68
        }
      },
      "source": [
        "# and location of the max\n",
        "omh[['MSFT', 'AAPL']].max()"
      ],
      "execution_count": null,
      "outputs": [
        {
          "output_type": "execute_result",
          "data": {
            "text/plain": [
              "MSFT     48.84\n",
              "AAPL    115.93\n",
              "dtype: float64"
            ]
          },
          "metadata": {
            "tags": []
          },
          "execution_count": 24
        }
      ]
    },
    {
      "cell_type": "code",
      "metadata": {
        "id": "LPzwIqaya3ta",
        "outputId": "024ff801-7fc5-48d4-9aef-be1d7389dc25",
        "colab": {
          "base_uri": "https://localhost:8080/",
          "height": 68
        }
      },
      "source": [
        "# location of min price for both stocks\n",
        "omh[['MSFT', 'AAPL']].idxmin()"
      ],
      "execution_count": null,
      "outputs": [
        {
          "output_type": "execute_result",
          "data": {
            "text/plain": [
              "MSFT    11\n",
              "AAPL    11\n",
              "dtype: int64"
            ]
          },
          "metadata": {
            "tags": []
          },
          "execution_count": 25
        }
      ]
    },
    {
      "cell_type": "code",
      "metadata": {
        "id": "gH0L8X3ha3tc",
        "outputId": "e5ecc90b-3e01-4a90-f0b3-40e2a1c57aef",
        "colab": {
          "base_uri": "https://localhost:8080/",
          "height": 68
        }
      },
      "source": [
        "# and location of the max\n",
        "omh[['MSFT', 'AAPL']].idxmax()"
      ],
      "execution_count": null,
      "outputs": [
        {
          "output_type": "execute_result",
          "data": {
            "text/plain": [
              "MSFT    3\n",
              "AAPL    2\n",
              "dtype: int64"
            ]
          },
          "metadata": {
            "tags": []
          },
          "execution_count": 26
        }
      ]
    },
    {
      "cell_type": "markdown",
      "metadata": {
        "id": "rn6-hJyla3te"
      },
      "source": [
        "# Smallest and Largest Values"
      ]
    },
    {
      "cell_type": "code",
      "metadata": {
        "id": "b5yekj1Ga3te",
        "outputId": "bd7297a0-c012-4f67-d5c7-3d3f639a70e3",
        "colab": {
          "base_uri": "https://localhost:8080/",
          "height": 102
        }
      },
      "source": [
        "# get the 4 smallest values\n",
        "omh.nsmallest(4, ['MSFT'])['MSFT']"
      ],
      "execution_count": null,
      "outputs": [
        {
          "output_type": "execute_result",
          "data": {
            "text/plain": [
              "11    45.16\n",
              "12    45.74\n",
              "21    46.45\n",
              "10    46.67\n",
              "Name: MSFT, dtype: float64"
            ]
          },
          "metadata": {
            "tags": []
          },
          "execution_count": 27
        }
      ]
    },
    {
      "cell_type": "code",
      "metadata": {
        "id": "BvgsHpRwa3tg",
        "outputId": "5ee602f7-7cb7-4120-fb39-7bab8514807d",
        "colab": {
          "base_uri": "https://localhost:8080/",
          "height": 102
        }
      },
      "source": [
        "# get the 4 largest values\n",
        "omh.nlargest(4, ['MSFT'])['MSFT']"
      ],
      "execution_count": null,
      "outputs": [
        {
          "output_type": "execute_result",
          "data": {
            "text/plain": [
              "3     48.84\n",
              "0     48.62\n",
              "1     48.46\n",
              "16    48.45\n",
              "Name: MSFT, dtype: float64"
            ]
          },
          "metadata": {
            "tags": []
          },
          "execution_count": 28
        }
      ]
    },
    {
      "cell_type": "code",
      "metadata": {
        "id": "1INnGHKJa3th",
        "outputId": "22342bbd-1bec-40b5-c5aa-abe65d00069a",
        "colab": {
          "base_uri": "https://localhost:8080/",
          "height": 102
        }
      },
      "source": [
        "# nsmallest on a Series\n",
        "omh.MSFT.nsmallest(4)"
      ],
      "execution_count": null,
      "outputs": [
        {
          "output_type": "execute_result",
          "data": {
            "text/plain": [
              "11    45.16\n",
              "12    45.74\n",
              "21    46.45\n",
              "10    46.67\n",
              "Name: MSFT, dtype: float64"
            ]
          },
          "metadata": {
            "tags": []
          },
          "execution_count": 29
        }
      ]
    },
    {
      "cell_type": "markdown",
      "metadata": {
        "id": "U08jORC7a3tj"
      },
      "source": [
        "# Accumulations"
      ]
    },
    {
      "cell_type": "code",
      "metadata": {
        "id": "poDve_Cxa3tj",
        "outputId": "69aa78fb-ac14-43b2-a9e9-e7d0fe107331",
        "colab": {
          "base_uri": "https://localhost:8080/",
          "height": 102
        }
      },
      "source": [
        "# calculate a cumulative product\n",
        "pd.Series([1, 2, 3, 4]).cumprod()"
      ],
      "execution_count": null,
      "outputs": [
        {
          "output_type": "execute_result",
          "data": {
            "text/plain": [
              "0     1\n",
              "1     2\n",
              "2     6\n",
              "3    24\n",
              "dtype: int64"
            ]
          },
          "metadata": {
            "tags": []
          },
          "execution_count": 30
        }
      ]
    },
    {
      "cell_type": "code",
      "metadata": {
        "id": "M0tD_2H8a3tl",
        "outputId": "6499bcc6-89c7-4cc9-ab66-a2c32ccef594",
        "colab": {
          "base_uri": "https://localhost:8080/",
          "height": 102
        }
      },
      "source": [
        "# calculate a cumulative sum\n",
        "pd.Series([1, 2, 3, 4]).cumsum()"
      ],
      "execution_count": null,
      "outputs": [
        {
          "output_type": "execute_result",
          "data": {
            "text/plain": [
              "0     1\n",
              "1     3\n",
              "2     6\n",
              "3    10\n",
              "dtype: int64"
            ]
          },
          "metadata": {
            "tags": []
          },
          "execution_count": 31
        }
      ]
    },
    {
      "cell_type": "markdown",
      "metadata": {
        "id": "ezRVmIvUa3tm"
      },
      "source": [
        "# Summary descriptive statistics"
      ]
    },
    {
      "cell_type": "code",
      "metadata": {
        "id": "OIcZ92xWa3tm",
        "outputId": "0851408b-ac39-4e00-e96f-61bf5403d2d7",
        "colab": {
          "base_uri": "https://localhost:8080/",
          "height": 170
        }
      },
      "source": [
        "# get summary statistics for the stock data\n",
        "omh.describe()"
      ],
      "execution_count": null,
      "outputs": [
        {
          "output_type": "execute_result",
          "data": {
            "text/plain": [
              "            MSFT        AAPL\n",
              "count  22.000000   22.000000\n",
              "mean   47.493182  112.411364\n",
              "std     0.933077    2.388772\n",
              "min    45.160000  106.750000\n",
              "25%    46.967500  111.660000\n",
              "50%    47.625000  112.530000\n",
              "75%    48.125000  114.087500\n",
              "max    48.840000  115.930000"
            ]
          },
          "metadata": {
            "tags": []
          },
          "execution_count": 32
        }
      ]
    },
    {
      "cell_type": "code",
      "metadata": {
        "id": "L5xP-Iz7a3tp",
        "outputId": "9f397b29-8b31-402a-a454-ad012b742af6",
        "colab": {
          "base_uri": "https://localhost:8080/",
          "height": 170
        }
      },
      "source": [
        "# just the stats for MSFT\n",
        "omh.MSFT.describe()"
      ],
      "execution_count": null,
      "outputs": [
        {
          "output_type": "execute_result",
          "data": {
            "text/plain": [
              "count    22.000000\n",
              "mean     47.493182\n",
              "std       0.933077\n",
              "min      45.160000\n",
              "25%      46.967500\n",
              "50%      47.625000\n",
              "75%      48.125000\n",
              "max      48.840000\n",
              "Name: MSFT, dtype: float64"
            ]
          },
          "metadata": {
            "tags": []
          },
          "execution_count": 33
        }
      ]
    },
    {
      "cell_type": "code",
      "metadata": {
        "id": "H4cZZi6fa3tq",
        "outputId": "86d0829e-65d6-42d2-cf6c-b0bef6aefe12",
        "colab": {
          "base_uri": "https://localhost:8080/",
          "height": 34
        }
      },
      "source": [
        "# only the mean for MSFT\n",
        "omh.MSFT.describe()['mean']"
      ],
      "execution_count": null,
      "outputs": [
        {
          "output_type": "execute_result",
          "data": {
            "text/plain": [
              "47.49318181818182"
            ]
          },
          "metadata": {
            "tags": []
          },
          "execution_count": 34
        }
      ]
    },
    {
      "cell_type": "code",
      "metadata": {
        "id": "i6nHNLzYa3ts",
        "outputId": "454c4bda-9bcf-4c4f-e6a3-01a97e245844",
        "colab": {
          "base_uri": "https://localhost:8080/",
          "height": 102
        }
      },
      "source": [
        "# get summary stats on non-numeric data\n",
        "s = pd.Series(['a', 'a', 'b', 'c', np.NaN])\n",
        "s.describe()"
      ],
      "execution_count": null,
      "outputs": [
        {
          "output_type": "execute_result",
          "data": {
            "text/plain": [
              "count     4\n",
              "unique    3\n",
              "top       a\n",
              "freq      2\n",
              "dtype: object"
            ]
          },
          "metadata": {
            "tags": []
          },
          "execution_count": 35
        }
      ]
    },
    {
      "cell_type": "markdown",
      "metadata": {
        "id": "9jcxhhqta3tu"
      },
      "source": [
        "# Mean"
      ]
    },
    {
      "cell_type": "code",
      "metadata": {
        "id": "Y2owoHSna3tu",
        "outputId": "a8161c42-0832-48e5-f626-fc75c01b1e72",
        "colab": {
          "base_uri": "https://localhost:8080/",
          "height": 68
        }
      },
      "source": [
        "# the mean of all the columns in omh\n",
        "omh.mean()"
      ],
      "execution_count": null,
      "outputs": [
        {
          "output_type": "execute_result",
          "data": {
            "text/plain": [
              "MSFT     47.493182\n",
              "AAPL    112.411364\n",
              "dtype: float64"
            ]
          },
          "metadata": {
            "tags": []
          },
          "execution_count": 36
        }
      ]
    },
    {
      "cell_type": "code",
      "metadata": {
        "id": "5aM8JoLwa3tv",
        "outputId": "5a83ca02-c9b0-41bc-d0d4-14fbb7e76dcd",
        "colab": {
          "base_uri": "https://localhost:8080/",
          "height": 119
        }
      },
      "source": [
        "# calc the mean of the values in each row\n",
        "omh.mean(axis=1)[:5]"
      ],
      "execution_count": null,
      "outputs": [
        {
          "output_type": "execute_result",
          "data": {
            "text/plain": [
              "0    81.845\n",
              "1    81.545\n",
              "2    82.005\n",
              "3    82.165\n",
              "4    81.710\n",
              "dtype: float64"
            ]
          },
          "metadata": {
            "tags": []
          },
          "execution_count": 37
        }
      ]
    },
    {
      "cell_type": "markdown",
      "metadata": {
        "id": "k_L3z8Sta3tx"
      },
      "source": [
        "# Median"
      ]
    },
    {
      "cell_type": "code",
      "metadata": {
        "id": "CTgp_TNYa3ty",
        "outputId": "48b0f5e2-813e-4541-df0a-82546b1283d2",
        "colab": {
          "base_uri": "https://localhost:8080/",
          "height": 68
        }
      },
      "source": [
        "# calc the median of the values in each column\n",
        "omh.median()"
      ],
      "execution_count": null,
      "outputs": [
        {
          "output_type": "execute_result",
          "data": {
            "text/plain": [
              "MSFT     47.625\n",
              "AAPL    112.530\n",
              "dtype: float64"
            ]
          },
          "metadata": {
            "tags": []
          },
          "execution_count": 38
        }
      ]
    },
    {
      "cell_type": "markdown",
      "metadata": {
        "id": "yaGLJ0Yva3tz"
      },
      "source": [
        "# Mode"
      ]
    },
    {
      "cell_type": "code",
      "metadata": {
        "id": "NRj36DLNa3t0",
        "outputId": "010c796a-a7f8-47d9-e4d5-c175fe94dbc2",
        "colab": {
          "base_uri": "https://localhost:8080/",
          "height": 51
        }
      },
      "source": [
        "# find the mode of this Series\n",
        "s = pd.Series([1, 2, 3, 3, 5])\n",
        "s.mode()"
      ],
      "execution_count": null,
      "outputs": [
        {
          "output_type": "execute_result",
          "data": {
            "text/plain": [
              "0    3\n",
              "dtype: int64"
            ]
          },
          "metadata": {
            "tags": []
          },
          "execution_count": 39
        }
      ]
    },
    {
      "cell_type": "code",
      "metadata": {
        "id": "vb7RBzvEa3t1",
        "outputId": "1e783fce-14ba-4920-e974-d1e0e4a40c0c",
        "colab": {
          "base_uri": "https://localhost:8080/",
          "height": 68
        }
      },
      "source": [
        "# there can be more than one mode\n",
        "s = pd.Series([1, 2, 3, 3, 5, 1])\n",
        "s.mode()"
      ],
      "execution_count": null,
      "outputs": [
        {
          "output_type": "execute_result",
          "data": {
            "text/plain": [
              "0    1\n",
              "1    3\n",
              "dtype: int64"
            ]
          },
          "metadata": {
            "tags": []
          },
          "execution_count": 40
        }
      ]
    },
    {
      "cell_type": "markdown",
      "metadata": {
        "id": "lPOInwS2a3t3"
      },
      "source": [
        "# Variance"
      ]
    },
    {
      "cell_type": "code",
      "metadata": {
        "id": "TLgL0dOha3t3",
        "outputId": "524d3edd-bfb0-4173-9454-cf1b3c3dc525",
        "colab": {
          "base_uri": "https://localhost:8080/",
          "height": 68
        }
      },
      "source": [
        "# calc the variance of the values in each column\n",
        "omh.var()"
      ],
      "execution_count": null,
      "outputs": [
        {
          "output_type": "execute_result",
          "data": {
            "text/plain": [
              "MSFT    0.870632\n",
              "AAPL    5.706231\n",
              "dtype: float64"
            ]
          },
          "metadata": {
            "tags": []
          },
          "execution_count": 41
        }
      ]
    },
    {
      "cell_type": "markdown",
      "metadata": {
        "id": "Q00tuRI4a3t5"
      },
      "source": [
        "# Standard Deviation"
      ]
    },
    {
      "cell_type": "code",
      "metadata": {
        "id": "_-Rc_7hUa3t5",
        "outputId": "615566ee-0994-4dbb-f514-b5d9c428b056",
        "colab": {
          "base_uri": "https://localhost:8080/",
          "height": 68
        }
      },
      "source": [
        "# standard deviation\n",
        "omh.std()"
      ],
      "execution_count": null,
      "outputs": [
        {
          "output_type": "execute_result",
          "data": {
            "text/plain": [
              "MSFT    0.933077\n",
              "AAPL    2.388772\n",
              "dtype: float64"
            ]
          },
          "metadata": {
            "tags": []
          },
          "execution_count": 42
        }
      ]
    },
    {
      "cell_type": "markdown",
      "metadata": {
        "id": "iPmAWtada3t7"
      },
      "source": [
        "# Covariance"
      ]
    },
    {
      "cell_type": "code",
      "metadata": {
        "id": "RKc04Vbfa3t7",
        "outputId": "1887265f-b628-48a6-a092-9af01d48c88d",
        "colab": {
          "base_uri": "https://localhost:8080/",
          "height": 34
        }
      },
      "source": [
        "# covariance of MSFT vs AAPL\n",
        "omh.MSFT.cov(omh.AAPL)"
      ],
      "execution_count": null,
      "outputs": [
        {
          "output_type": "execute_result",
          "data": {
            "text/plain": [
              "1.9261240259740264"
            ]
          },
          "metadata": {
            "tags": []
          },
          "execution_count": 43
        }
      ]
    },
    {
      "cell_type": "markdown",
      "metadata": {
        "id": "fMGoSk9Ba3t9"
      },
      "source": [
        "# Correlation"
      ]
    },
    {
      "cell_type": "code",
      "metadata": {
        "id": "fAqKJqVka3t9",
        "outputId": "0e68f2ce-0b06-4db0-d6d2-01140e8452f1",
        "colab": {
          "base_uri": "https://localhost:8080/",
          "height": 34
        }
      },
      "source": [
        "# correlation of MSFT relative to AAPL\n",
        "omh.MSFT.corr(omh.AAPL)"
      ],
      "execution_count": null,
      "outputs": [
        {
          "output_type": "execute_result",
          "data": {
            "text/plain": [
              "0.8641560684381171"
            ]
          },
          "metadata": {
            "tags": []
          },
          "execution_count": 44
        }
      ]
    },
    {
      "cell_type": "markdown",
      "metadata": {
        "id": "UodImd6Ta3t_"
      },
      "source": [
        "# Discretization and quantiling"
      ]
    },
    {
      "cell_type": "code",
      "metadata": {
        "id": "oDrasKH1a3t_",
        "outputId": "c5336261-52c9-4e25-a099-9038577d67ac",
        "colab": {
          "base_uri": "https://localhost:8080/",
          "height": 51
        }
      },
      "source": [
        "# generate 10000 normal random #'s\n",
        "np.random.seed(123456)\n",
        "dist = np.random.normal(size = 10000)\n",
        "dist"
      ],
      "execution_count": null,
      "outputs": [
        {
          "output_type": "execute_result",
          "data": {
            "text/plain": [
              "array([ 0.4691123 , -0.28286334, -1.5090585 , ...,  0.26296448,\n",
              "       -0.83377412, -0.10418135])"
            ]
          },
          "metadata": {
            "tags": []
          },
          "execution_count": 45
        }
      ]
    },
    {
      "cell_type": "code",
      "metadata": {
        "id": "S6rPkxJCa3uC",
        "outputId": "e92e257c-3973-462b-f9bb-f5a5225c58c5",
        "colab": {
          "base_uri": "https://localhost:8080/",
          "height": 34
        }
      },
      "source": [
        "# show the mean and std\n",
        "(dist.mean(), dist.std())"
      ],
      "execution_count": null,
      "outputs": [
        {
          "output_type": "execute_result",
          "data": {
            "text/plain": [
              "(-0.002863324040906651, 1.008716203199891)"
            ]
          },
          "metadata": {
            "tags": []
          },
          "execution_count": 46
        }
      ]
    },
    {
      "cell_type": "code",
      "metadata": {
        "id": "rIxUAVGBa3uE",
        "outputId": "e2dbce81-a297-4221-8c63-8506f213bd96",
        "colab": {
          "base_uri": "https://localhost:8080/",
          "height": 102
        }
      },
      "source": [
        "# cut into 5 equally sized bins\n",
        "bins = pd.cut(dist, 5)\n",
        "bins"
      ],
      "execution_count": null,
      "outputs": [
        {
          "output_type": "execute_result",
          "data": {
            "text/plain": [
              "[(-0.633, 0.81], (-0.633, 0.81], (-2.077, -0.633], (-2.077, -0.633], (0.81, 2.254], ..., (-2.077, -0.633], (-0.633, 0.81], (-0.633, 0.81], (-2.077, -0.633], (-0.633, 0.81]]\n",
              "Length: 10000\n",
              "Categories (5, interval[float64]): [(-3.528, -2.077] < (-2.077, -0.633] <\n",
              "                                    (-0.633, 0.81] < (0.81, 2.254] <\n",
              "                                    (2.254, 3.698]]"
            ]
          },
          "metadata": {
            "tags": []
          },
          "execution_count": 47
        }
      ]
    },
    {
      "cell_type": "code",
      "metadata": {
        "id": "etFr-e5aa3uG",
        "outputId": "f8fde1c3-ee1f-416c-e8f9-7afa1ebfef62",
        "colab": {
          "base_uri": "https://localhost:8080/",
          "height": 68
        }
      },
      "source": [
        "# just the categories \n",
        "bins.categories"
      ],
      "execution_count": null,
      "outputs": [
        {
          "output_type": "execute_result",
          "data": {
            "text/plain": [
              "IntervalIndex([(-3.528, -2.077], (-2.077, -0.633], (-0.633, 0.81], (0.81, 2.254], (2.254, 3.698]],\n",
              "              closed='right',\n",
              "              dtype='interval[float64]')"
            ]
          },
          "metadata": {
            "tags": []
          },
          "execution_count": 48
        }
      ]
    },
    {
      "cell_type": "code",
      "metadata": {
        "id": "LItfu9Fya3uI",
        "outputId": "40efb878-66fc-49fa-bd05-f4a732c681c0",
        "colab": {
          "base_uri": "https://localhost:8080/",
          "height": 34
        }
      },
      "source": [
        "# codes tells us which bin each item is in\n",
        "bins.codes"
      ],
      "execution_count": null,
      "outputs": [
        {
          "output_type": "execute_result",
          "data": {
            "text/plain": [
              "array([2, 2, 1, ..., 2, 1, 2], dtype=int8)"
            ]
          },
          "metadata": {
            "tags": []
          },
          "execution_count": 49
        }
      ]
    },
    {
      "cell_type": "code",
      "metadata": {
        "id": "DEMijrtLa3uK",
        "outputId": "031a8e69-6ed8-4050-9649-8dd6f62bc5c3",
        "colab": {
          "base_uri": "https://localhost:8080/",
          "height": 68
        }
      },
      "source": [
        "# move the closed side of the interval to the left\n",
        "pd.cut(dist, 5, right=False).categories"
      ],
      "execution_count": null,
      "outputs": [
        {
          "output_type": "execute_result",
          "data": {
            "text/plain": [
              "IntervalIndex([[-3.521, -2.077), [-2.077, -0.633), [-0.633, 0.81), [0.81, 2.254), [2.254, 3.705)],\n",
              "              closed='left',\n",
              "              dtype='interval[float64]')"
            ]
          },
          "metadata": {
            "tags": []
          },
          "execution_count": 50
        }
      ]
    },
    {
      "cell_type": "code",
      "metadata": {
        "id": "_5bZJow8a3uL",
        "outputId": "8d94b933-0a61-4e45-cd36-c032d57917a3",
        "colab": {
          "base_uri": "https://localhost:8080/",
          "height": 68
        }
      },
      "source": [
        "# generate 50 ages between 6 and 45\n",
        "np.random.seed(123456)\n",
        "ages = np.random.randint(6, 45, 50)\n",
        "ages"
      ],
      "execution_count": null,
      "outputs": [
        {
          "output_type": "execute_result",
          "data": {
            "text/plain": [
              "array([ 7, 33, 38, 29, 42, 14, 16, 16, 18, 17, 26, 28, 44, 40, 20, 12,  8,\n",
              "       10, 36, 29, 26, 26, 11, 29, 42, 17, 41, 35, 22, 40, 24, 21, 38, 33,\n",
              "       26, 23, 16, 34, 26, 20, 18, 42, 27, 13, 37, 37, 10,  7, 10, 23])"
            ]
          },
          "metadata": {
            "tags": []
          },
          "execution_count": 51
        }
      ]
    },
    {
      "cell_type": "code",
      "metadata": {
        "id": "4o0tzOK4a3uN",
        "outputId": "2755e438-5ce9-486a-a46a-38316f91dc1b",
        "colab": {
          "base_uri": "https://localhost:8080/",
          "height": 119
        }
      },
      "source": [
        "# cut into ranges and then get descriptive stats\n",
        "ranges = [6, 12, 18, 35, 50]\n",
        "agebins = pd.cut(ages, ranges)\n",
        "agebins.describe()"
      ],
      "execution_count": null,
      "outputs": [
        {
          "output_type": "execute_result",
          "data": {
            "text/plain": [
              "            counts  freqs\n",
              "categories               \n",
              "(6, 12]          8   0.16\n",
              "(12, 18]         9   0.18\n",
              "(18, 35]        21   0.42\n",
              "(35, 50]        12   0.24"
            ]
          },
          "metadata": {
            "tags": []
          },
          "execution_count": 52
        }
      ]
    },
    {
      "cell_type": "code",
      "metadata": {
        "id": "rkTbS2v6a3uP",
        "outputId": "2c3ccf66-03df-4d0a-ad1d-1be8027ed375",
        "colab": {
          "base_uri": "https://localhost:8080/",
          "height": 119
        }
      },
      "source": [
        "# add names for the bins\n",
        "ranges = [6, 12, 18, 35, 50]\n",
        "labels = ['Youth', 'Young Adult', 'Adult', 'Middle Aged']\n",
        "agebins = pd.cut(ages, ranges, labels=labels)\n",
        "agebins.describe()"
      ],
      "execution_count": null,
      "outputs": [
        {
          "output_type": "execute_result",
          "data": {
            "text/plain": [
              "             counts  freqs\n",
              "categories                \n",
              "Youth             8   0.16\n",
              "Young Adult       9   0.18\n",
              "Adult            21   0.42\n",
              "Middle Aged      12   0.24"
            ]
          },
          "metadata": {
            "tags": []
          },
          "execution_count": 53
        }
      ]
    },
    {
      "cell_type": "code",
      "metadata": {
        "id": "VbuyrXjna3uQ",
        "outputId": "9833ce0a-9ea0-4500-cf3e-05e285e5a3ff",
        "colab": {
          "base_uri": "https://localhost:8080/",
          "height": 136
        }
      },
      "source": [
        "# cut into quantiles\n",
        "# 5 bins with an equal quantity of items\n",
        "qbin = pd.qcut(dist, 5)\n",
        "# this will tell us the range of values in each quantile\n",
        "qbin.describe()"
      ],
      "execution_count": null,
      "outputs": [
        {
          "output_type": "execute_result",
          "data": {
            "text/plain": [
              "                  counts  freqs\n",
              "categories                     \n",
              "(-3.522, -0.861]    2000    0.2\n",
              "(-0.861, -0.241]    2000    0.2\n",
              "(-0.241, 0.261]     2000    0.2\n",
              "(0.261, 0.866]      2000    0.2\n",
              "(0.866, 3.698]      2000    0.2"
            ]
          },
          "metadata": {
            "tags": []
          },
          "execution_count": 54
        }
      ]
    },
    {
      "cell_type": "code",
      "metadata": {
        "id": "fwx3lejSa3uS",
        "outputId": "c1d21c16-3305-4e0f-ff95-bb3e9acdd029",
        "colab": {
          "base_uri": "https://localhost:8080/",
          "height": 187
        }
      },
      "source": [
        "# make the quantiles at the +/- 3, 2 and 1 std deviations\n",
        "quantiles = [0,\n",
        "             0.001, \n",
        "             0.021,\n",
        "             0.5-0.341,\n",
        "             0.5,\n",
        "             0.5+0.341,\n",
        "             1.0-0.021,\n",
        "             1.0-0.001,\n",
        "             1.0]\n",
        "qbin = pd.qcut(dist, quantiles)\n",
        "# this data should be a perfect normal distribution\n",
        "qbin.describe()"
      ],
      "execution_count": null,
      "outputs": [
        {
          "output_type": "execute_result",
          "data": {
            "text/plain": [
              "                    counts  freqs\n",
              "categories                       \n",
              "(-3.522, -3.131]        10  0.001\n",
              "(-3.131, -2.056]       200  0.020\n",
              "(-2.056, -1.033]      1380  0.138\n",
              "(-1.033, -0.00363]    3410  0.341\n",
              "(-0.00363, 1.011]     3410  0.341\n",
              "(1.011, 2.043]        1380  0.138\n",
              "(2.043, 3.062]         200  0.020\n",
              "(3.062, 3.698]          10  0.001"
            ]
          },
          "metadata": {
            "tags": []
          },
          "execution_count": 55
        }
      ]
    },
    {
      "cell_type": "markdown",
      "metadata": {
        "id": "qfZjRexOa3uU"
      },
      "source": [
        "# Ranking"
      ]
    },
    {
      "cell_type": "code",
      "metadata": {
        "id": "YuqgO4Qqa3uU",
        "outputId": "ab64f329-32e2-409e-8edd-0a503954bde7",
        "colab": {
          "base_uri": "https://localhost:8080/",
          "height": 119
        }
      },
      "source": [
        "import numpy as np\n",
        "# random data\n",
        "np.random.seed(12345)\n",
        "s = pd.Series(np.random.randn(5), index=list('abcde'))\n",
        "s"
      ],
      "execution_count": null,
      "outputs": [
        {
          "output_type": "execute_result",
          "data": {
            "text/plain": [
              "a   -0.204708\n",
              "b    0.478943\n",
              "c   -0.519439\n",
              "d   -0.555730\n",
              "e    1.965781\n",
              "dtype: float64"
            ]
          },
          "metadata": {
            "tags": []
          },
          "execution_count": 62
        }
      ]
    },
    {
      "cell_type": "code",
      "metadata": {
        "id": "xwP-K5dka3uV",
        "outputId": "0a822a17-11dc-4c50-d4ce-77a16234ef75",
        "colab": {
          "base_uri": "https://localhost:8080/",
          "height": 136
        }
      },
      "source": [
        "# rank the values\n",
        "s.rank()"
      ],
      "execution_count": null,
      "outputs": [
        {
          "output_type": "execute_result",
          "data": {
            "text/plain": [
              "0    1.5\n",
              "1    3.0\n",
              "2    4.5\n",
              "3    4.5\n",
              "4    6.0\n",
              "5    1.5\n",
              "dtype: float64"
            ]
          },
          "metadata": {
            "tags": []
          },
          "execution_count": 60
        }
      ]
    },
    {
      "cell_type": "markdown",
      "metadata": {
        "id": "skOGdTHta3uZ"
      },
      "source": [
        "# Percent change"
      ]
    },
    {
      "cell_type": "code",
      "metadata": {
        "id": "gwB9n9HUa3uZ",
        "outputId": "1db4b65e-3bab-4062-c55e-326b7fac7951",
        "colab": {
          "base_uri": "https://localhost:8080/",
          "height": 119
        }
      },
      "source": [
        "# calculate % change on MSFT\n",
        "omh[['MSFT']].pct_change()[:5]"
      ],
      "execution_count": null,
      "outputs": [
        {
          "output_type": "execute_result",
          "data": {
            "text/plain": [
              "       MSFT\n",
              "0       NaN\n",
              "1 -0.003291\n",
              "2 -0.007842\n",
              "3  0.015807\n",
              "4 -0.008600"
            ]
          },
          "metadata": {
            "tags": []
          },
          "execution_count": 63
        }
      ]
    },
    {
      "cell_type": "markdown",
      "metadata": {
        "id": "XGPZbrtPa3ua"
      },
      "source": [
        "# Moving window operations"
      ]
    },
    {
      "cell_type": "code",
      "metadata": {
        "id": "YcfgKA7ta3ua",
        "outputId": "3decf4cc-f7dc-488a-c7a7-35620dc30719",
        "colab": {
          "base_uri": "https://localhost:8080/",
          "height": 119
        }
      },
      "source": [
        "# create a random walk\n",
        "np.random.seed(123456)\n",
        "s = pd.Series(np.random.randn(1000)).cumsum()\n",
        "s[:5]"
      ],
      "execution_count": null,
      "outputs": [
        {
          "output_type": "execute_result",
          "data": {
            "text/plain": [
              "0    0.469112\n",
              "1    0.186249\n",
              "2   -1.322810\n",
              "3   -2.458442\n",
              "4   -1.246330\n",
              "dtype: float64"
            ]
          },
          "metadata": {
            "tags": []
          },
          "execution_count": 64
        }
      ]
    },
    {
      "cell_type": "code",
      "metadata": {
        "id": "1LtoDfZwa3uc",
        "outputId": "5c91e3af-264d-4997-85ce-326e7c3309d1",
        "colab": {
          "base_uri": "https://localhost:8080/",
          "height": 265
        }
      },
      "source": [
        "s[0:100].plot();"
      ],
      "execution_count": null,
      "outputs": [
        {
          "output_type": "display_data",
          "data": {
            "image/png": "[encoded data removed]",
            "text/plain": [
              "<Figure size 432x288 with 1 Axes>"
            ]
          },
          "metadata": {
            "tags": [],
            "needs_background": "light"
          }
        }
      ]
    },
    {
      "cell_type": "code",
      "metadata": {
        "id": "s2PcLoAYa3ue",
        "outputId": "1f6023da-b0ed-412a-b84a-abda7bec2bea",
        "colab": {
          "base_uri": "https://localhost:8080/",
          "height": 34
        }
      },
      "source": [
        "# calculate rolling window of three days\n",
        "r = s.rolling(window=3)\n",
        "r"
      ],
      "execution_count": null,
      "outputs": [
        {
          "output_type": "execute_result",
          "data": {
            "text/plain": [
              "Rolling [window=3,center=False,axis=0]"
            ]
          },
          "metadata": {
            "tags": []
          },
          "execution_count": 66
        }
      ]
    },
    {
      "cell_type": "code",
      "metadata": {
        "id": "LmaHFfr8a3uf",
        "outputId": "698594cb-a212-42fe-a20c-3fac4403e7e5",
        "colab": {
          "base_uri": "https://localhost:8080/",
          "height": 153
        }
      },
      "source": [
        "# the rolling mean at three days\n",
        "means = r.mean()\n",
        "means[:7]"
      ],
      "execution_count": null,
      "outputs": [
        {
          "output_type": "execute_result",
          "data": {
            "text/plain": [
              "0         NaN\n",
              "1         NaN\n",
              "2   -0.222483\n",
              "3   -1.198334\n",
              "4   -1.675860\n",
              "5   -1.708105\n",
              "6   -1.322070\n",
              "dtype: float64"
            ]
          },
          "metadata": {
            "tags": []
          },
          "execution_count": 68
        }
      ]
    },
    {
      "cell_type": "code",
      "metadata": {
        "id": "StLrimJUa3ug",
        "outputId": "4accc1dc-7455-420e-f224-becef8f92e84",
        "colab": {
          "base_uri": "https://localhost:8080/",
          "height": 34
        }
      },
      "source": [
        "# check the mean of the first 3 numbers\n",
        "s[0:3].mean()"
      ],
      "execution_count": null,
      "outputs": [
        {
          "output_type": "execute_result",
          "data": {
            "text/plain": [
              "-0.22248276403642672"
            ]
          },
          "metadata": {
            "tags": []
          },
          "execution_count": 69
        }
      ]
    },
    {
      "cell_type": "code",
      "metadata": {
        "id": "7zdj0qzXa3uh",
        "outputId": "41b1fde9-ce1f-4d08-cdd1-2ed2fb07fee6",
        "colab": {
          "base_uri": "https://localhost:8080/",
          "height": 34
        }
      },
      "source": [
        "# mean of 1 through 3\n",
        "s[1:4].mean()"
      ],
      "execution_count": null,
      "outputs": [
        {
          "output_type": "execute_result",
          "data": {
            "text/plain": [
              "-1.1983341702095498"
            ]
          },
          "metadata": {
            "tags": []
          },
          "execution_count": 70
        }
      ]
    },
    {
      "cell_type": "code",
      "metadata": {
        "id": "0Svv7S1Ja3uj",
        "outputId": "63e31b3c-50ba-42de-d21f-c78e237b445c",
        "colab": {
          "base_uri": "https://localhost:8080/",
          "height": 265
        }
      },
      "source": [
        "# plot the 3 day rolling mean\n",
        "means[0:100].plot();"
      ],
      "execution_count": null,
      "outputs": [
        {
          "output_type": "display_data",
          "data": {
            "image/png": "[encoded data removed]",
            "text/plain": [
              "<Figure size 432x288 with 1 Axes>"
            ]
          },
          "metadata": {
            "tags": [],
            "needs_background": "light"
          }
        }
      ]
    },
    {
      "cell_type": "markdown",
      "metadata": {
        "id": "RB8-MB0ja3uk"
      },
      "source": [
        "# Random sampling"
      ]
    },
    {
      "cell_type": "code",
      "metadata": {
        "id": "dRL1Wyxwa3uk",
        "outputId": "b4c19209-ccc2-4809-c51b-dbf9e0a589b5",
        "colab": {
          "base_uri": "https://localhost:8080/",
          "height": 119
        }
      },
      "source": [
        "# create a random sample of four columns of 50 items\n",
        "np.random.seed(123456)\n",
        "df = pd.DataFrame(np.random.randn(50, 4))\n",
        "df[:5]"
      ],
      "execution_count": null,
      "outputs": [
        {
          "output_type": "execute_result",
          "data": {
            "text/plain": [
              "          0         1         2         3\n",
              "0  0.469112 -0.282863 -1.509059 -1.135632\n",
              "1  1.212112 -0.173215  0.119209 -1.044236\n",
              "2 -0.861849 -2.104569 -0.494929  1.071804\n",
              "3  0.721555 -0.706771 -1.039575  0.271860\n",
              "4 -0.424972  0.567020  0.276232 -1.087401"
            ]
          },
          "metadata": {
            "tags": []
          },
          "execution_count": 72
        }
      ]
    },
    {
      "cell_type": "code",
      "metadata": {
        "id": "DZ4o35yza3ul",
        "outputId": "8c12357a-763a-4f4b-91ec-ab11c65f5309",
        "colab": {
          "base_uri": "https://localhost:8080/",
          "height": 85
        }
      },
      "source": [
        "# sample three random rows\n",
        "df.sample(n=3)"
      ],
      "execution_count": null,
      "outputs": [
        {
          "output_type": "execute_result",
          "data": {
            "text/plain": [
              "           0         1         2         3\n",
              "15 -0.076467 -1.187678  1.130127 -1.436737\n",
              "28 -2.182937  0.380396  0.084844  0.432390\n",
              "48 -0.693921  1.613616  0.464000  0.227371"
            ]
          },
          "metadata": {
            "tags": []
          },
          "execution_count": 73
        }
      ]
    },
    {
      "cell_type": "code",
      "metadata": {
        "id": "J45WaEpda3un",
        "outputId": "1a59c896-efa0-43e8-8239-704a1ba98c76",
        "colab": {
          "base_uri": "https://localhost:8080/",
          "height": 119
        }
      },
      "source": [
        "# sample 10% of the rows\n",
        "df.sample(frac=0.1)"
      ],
      "execution_count": null,
      "outputs": [
        {
          "output_type": "execute_result",
          "data": {
            "text/plain": [
              "           0         1         2         3\n",
              "37  1.126203 -0.977349  1.474071 -0.064034\n",
              "10 -1.294524  0.413738  0.276662 -0.472035\n",
              "4  -0.424972  0.567020  0.276232 -1.087401\n",
              "14  0.410835  0.813850  0.132003 -0.827317\n",
              "48 -0.693921  1.613616  0.464000  0.227371"
            ]
          },
          "metadata": {
            "tags": []
          },
          "execution_count": 74
        }
      ]
    },
    {
      "cell_type": "code",
      "metadata": {
        "id": "hnNl_1p3a3uo",
        "outputId": "19d74883-9fa2-4976-9650-4e682ec39fce",
        "colab": {
          "base_uri": "https://localhost:8080/",
          "height": 119
        }
      },
      "source": [
        "# 10% with replacement\n",
        "df.sample(frac=0.1, replace=True)"
      ],
      "execution_count": null,
      "outputs": [
        {
          "output_type": "execute_result",
          "data": {
            "text/plain": [
              "           0         1         2         3\n",
              "27 -1.236269  0.896171 -0.487602 -0.082240\n",
              "9   0.357021 -0.674600 -1.776904 -0.968914\n",
              "27 -1.236269  0.896171 -0.487602 -0.082240\n",
              "15 -0.076467 -1.187678  1.130127 -1.436737\n",
              "9   0.357021 -0.674600 -1.776904 -0.968914"
            ]
          },
          "metadata": {
            "tags": []
          },
          "execution_count": 75
        }
      ]
    },
    {
      "cell_type": "code",
      "metadata": {
        "id": "1yjPpaM6qQ1A",
        "outputId": "b9d47e3b-6a9a-434b-b5aa-db440af426fc",
        "colab": {
          "base_uri": "https://localhost:8080/",
          "height": 35
        }
      },
      "source": [
        "a=\"66 114 101 97 107 65 76 76 67 84 70 123 65 109 118 48 117 68 121 101 114 118 80 116 109 86 114 57 83 83 83 75 125\".split(\" \")\n",
        "\n",
        "result=''\n",
        "\n",
        "for x in a:\n",
        "  y=chr(int(x))\n",
        "  result += y\n",
        "# result = result + y \n",
        "\n",
        "result"
      ],
      "execution_count": null,
      "outputs": [
        {
          "output_type": "execute_result",
          "data": {
            "application/vnd.google.colaboratory.intrinsic+json": {
              "type": "string"
            },
            "text/plain": [
              "'BreakALLCTF{Amv0uDyervPtmVr9SSSK}'"
            ]
          },
          "metadata": {
            "tags": []
          },
          "execution_count": 76
        }
      ]
    },
    {
      "cell_type": "code",
      "metadata": {
        "id": "w0Szq6S4sToe",
        "outputId": "9523f518-ea85-457b-ca18-f6026037bdbf",
        "colab": {
          "base_uri": "https://localhost:8080/",
          "height": 51
        }
      },
      "source": [
        "import base64\n",
        "\n",
        "data =b'BreakAllCTF{HappyPythonDay}'\n",
        "encoded_data = base64.b64encode(data)\n",
        "print('Original Data :', data)\n",
        "print('Encoded :', encoded_data)"
      ],
      "execution_count": null,
      "outputs": [
        {
          "output_type": "stream",
          "text": [
            "Original Data : b'BreakAllCTF{HappyPythonDay}'\n",
            "Encoded : b'QnJlYWtBbGxDVEZ7SGFwcHlQeXRob25EYXl9'\n"
          ],
          "name": "stdout"
        }
      ]
    },
    {
      "cell_type": "code",
      "metadata": {
        "id": "j4muygKSsYby",
        "outputId": "891f033e-6dda-4bff-802c-a30fca847c56",
        "colab": {
          "base_uri": "https://localhost:8080/",
          "height": 51
        }
      },
      "source": [
        "import base64\n",
        "\n",
        "encoded_data = b'QnJlYWtBTExDVEZ7NTN1c1pRM2hXVzI1ZGNoWjdkWGV9'\n",
        "decoded_data = base64.b64decode(encoded_data)\n",
        "print('Encoded :', encoded_data)\n",
        "print('Decoded :', decoded_data)"
      ],
      "execution_count": null,
      "outputs": [
        {
          "output_type": "stream",
          "text": [
            "Encoded : b'QnJlYWtBTExDVEZ7NTN1c1pRM2hXVzI1ZGNoWjdkWGV9'\n",
            "Decoded : b'BreakALLCTF{53usZQ3hWW25dchZ7dXe}'\n"
          ],
          "name": "stdout"
        }
      ]
    },
    {
      "cell_type": "code",
      "metadata": {
        "id": "dLx4oK6DscEu",
        "outputId": "0a770fdf-5523-454c-f0a9-dea4a1197f4f",
        "colab": {
          "base_uri": "https://localhost:8080/",
          "height": 68
        }
      },
      "source": [
        "import base64\n",
        "\n",
        "original_data = b'BreakAllCTF{HappyPythonDay}'\n",
        "print('Original data:', original_data)\n",
        "\n",
        "encoded_data = base64.b32encode(original_data)\n",
        "print('Encoded :', encoded_data)\n",
        "\n",
        "decoded_data = base64.b32decode(encoded_data)\n",
        "print('Decoded :', decoded_data)"
      ],
      "execution_count": null,
      "outputs": [
        {
          "output_type": "stream",
          "text": [
            "Original data: b'BreakAllCTF{HappyPythonDay}'\n",
            "Encoded : b'IJZGKYLLIFWGYQ2UIZ5UQYLQOB4VA6LUNBXW4RDBPF6Q===='\n",
            "Decoded : b'BreakAllCTF{HappyPythonDay}'\n"
          ],
          "name": "stdout"
        }
      ]
    }
  ]
}
