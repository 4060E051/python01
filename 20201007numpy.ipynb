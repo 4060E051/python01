{
  "nbformat": 4,
  "nbformat_minor": 0,
  "metadata": {
    "colab": {
      "name": "20201007numpy.ipynb",
      "provenance": [],
      "collapsed_sections": [],
      "authorship_tag": "ABX9TyM+8jWJu3PcyjAt98osc/0B",
      "include_colab_link": true
    },
    "kernelspec": {
      "name": "python3",
      "display_name": "Python 3"
    }
  },
  "cells": [
    {
      "cell_type": "markdown",
      "metadata": {
        "id": "view-in-github",
        "colab_type": "text"
      },
      "source": [
        "<a href=\"https://colab.research.google.com/github/4060E051/python01/blob/master/20201007numpy.ipynb\" target=\"_parent\"><img src=\"https://colab.research.google.com/assets/colab-badge.svg\" alt=\"Open In Colab\"/></a>"
      ]
    },
    {
      "cell_type": "code",
      "metadata": {
        "id": "oqzGCIYw3P-t",
        "outputId": "5cef2ac0-976e-431c-880c-a6c9282eeaca",
        "colab": {
          "base_uri": "https://localhost:8080/"
        }
      },
      "source": [
        "!git clone https://github.com/tensorflow/examples --depth 1"
      ],
      "execution_count": null,
      "outputs": [
        {
          "output_type": "stream",
          "text": [
            "Cloning into 'examples'...\n",
            "remote: Enumerating objects: 1861, done.\u001b[K\n",
            "remote: Counting objects: 100% (1861/1861), done.\u001b[K\n",
            "remote: Compressing objects: 100% (1170/1170), done.\u001b[K\n",
            "remote: Total 1861 (delta 529), reused 1467 (delta 405), pack-reused 0\u001b[K\n",
            "Receiving objects: 100% (1861/1861), 12.24 MiB | 7.70 MiB/s, done.\n",
            "Resolving deltas: 100% (529/529), done.\n"
          ],
          "name": "stdout"
        }
      ]
    },
    {
      "cell_type": "code",
      "metadata": {
        "id": "uwQCToVX4n9q",
        "outputId": "08194c09-8fc1-48ee-ac17-bc8fbb10c413",
        "colab": {
          "base_uri": "https://localhost:8080/"
        }
      },
      "source": [
        "ls"
      ],
      "execution_count": null,
      "outputs": [
        {
          "output_type": "stream",
          "text": [
            "\u001b[0m\u001b[01;34mexamples\u001b[0m/  \u001b[01;34msample_data\u001b[0m/\n"
          ],
          "name": "stdout"
        }
      ]
    },
    {
      "cell_type": "code",
      "metadata": {
        "id": "KzRABw-54uWn",
        "outputId": "226009f1-0f2c-4354-b036-33d96c4a3bb0",
        "colab": {
          "base_uri": "https://localhost:8080/"
        }
      },
      "source": [
        "cd examples/"
      ],
      "execution_count": null,
      "outputs": [
        {
          "output_type": "stream",
          "text": [
            "/content/examples\n"
          ],
          "name": "stdout"
        }
      ]
    },
    {
      "cell_type": "code",
      "metadata": {
        "id": "IPEOwtIM45B3",
        "outputId": "1ea372e9-5751-4e3e-896e-e2ac62137c8d",
        "colab": {
          "base_uri": "https://localhost:8080/"
        }
      },
      "source": [
        "ls"
      ],
      "execution_count": null,
      "outputs": [
        {
          "output_type": "stream",
          "text": [
            "AUTHORS     CONTRIBUTING.md  LICENSE    setup.py\n",
            "CODEOWNERS  \u001b[0m\u001b[01;34mcourses\u001b[0m/         \u001b[01;34mlite\u001b[0m/      \u001b[01;34mtemplates\u001b[0m/\n",
            "\u001b[01;34mcommunity\u001b[0m/  __init__.py      README.md  \u001b[01;34mtensorflow_examples\u001b[0m/\n"
          ],
          "name": "stdout"
        }
      ]
    },
    {
      "cell_type": "code",
      "metadata": {
        "id": "OwR3LaAMJDLp",
        "outputId": "61efca82-0bed-45b3-f54f-34794c93b11b",
        "colab": {
          "base_uri": "https://localhost:8080/"
        }
      },
      "source": [
        "import numpy as np\n",
        "ar2=np.array([[0,2,5],[2,2,7]])\n",
        "# ar2.shape\n",
        "ar2.ndim"
      ],
      "execution_count": null,
      "outputs": [
        {
          "output_type": "execute_result",
          "data": {
            "text/plain": [
              "2"
            ]
          },
          "metadata": {
            "tags": []
          },
          "execution_count": 13
        }
      ]
    },
    {
      "cell_type": "code",
      "metadata": {
        "id": "1GuV-i_wJDdm",
        "outputId": "c87504c6-315a-4661-f16a-7dd18331dbf5",
        "colab": {
          "base_uri": "https://localhost:8080/"
        }
      },
      "source": [
        "ar=np.array([2,4,6,8,16]); \n",
        "ar.dtype"
      ],
      "execution_count": null,
      "outputs": [
        {
          "output_type": "execute_result",
          "data": {
            "text/plain": [
              "dtype('int64')"
            ]
          },
          "metadata": {
            "tags": []
          },
          "execution_count": 15
        }
      ]
    },
    {
      "cell_type": "code",
      "metadata": {
        "id": "7QtZAPZUJDif",
        "outputId": "d3101317-4830-4ba6-8b12-b46cfdaf22e7",
        "colab": {
          "base_uri": "https://localhost:8080/",
          "height": 34
        }
      },
      "source": [
        "import numpy as np\n",
        "f_ar = np.array([13,-3,8.88])\n",
        "f_ar\n",
        "\n",
        "intf_ar=f_ar.astype(int)\n",
        "intf_ar"
      ],
      "execution_count": null,
      "outputs": [
        {
          "output_type": "execute_result",
          "data": {
            "text/plain": [
              "array([13, -3,  8])"
            ]
          },
          "metadata": {
            "tags": []
          },
          "execution_count": 8
        }
      ]
    },
    {
      "cell_type": "code",
      "metadata": {
        "id": "yMaOqM76Fy4Q",
        "outputId": "4a55f2fe-7b56-4b35-bf46-53d67d7cee2e",
        "colab": {
          "base_uri": "https://localhost:8080/"
        }
      },
      "source": [
        "import numpy as np\n",
        "\n",
        "x3 = np.random.uniform(0,1,10)\n",
        "x3"
      ],
      "execution_count": null,
      "outputs": [
        {
          "output_type": "execute_result",
          "data": {
            "text/plain": [
              "array([0.5488135 , 0.71518937, 0.60276338, 0.54488318, 0.4236548 ,\n",
              "       0.64589411, 0.43758721, 0.891773  , 0.96366276, 0.38344152])"
            ]
          },
          "metadata": {
            "tags": []
          },
          "execution_count": 10
        }
      ]
    },
    {
      "cell_type": "code",
      "metadata": {
        "id": "7elDAlOIIz27",
        "outputId": "92cfee4a-4390-4d2e-ca67-c19ce4100a71",
        "colab": {
          "base_uri": "https://localhost:8080/",
          "height": 68
        }
      },
      "source": [
        "import numpy as np\n",
        "x = np.array([[1,2.0],[0,0],(1+1j,3.)])\n",
        "x\n"
      ],
      "execution_count": null,
      "outputs": [
        {
          "output_type": "execute_result",
          "data": {
            "text/plain": [
              "array([[1.+0.j, 2.+0.j],\n",
              "       [0.+0.j, 0.+0.j],\n",
              "       [1.+1.j, 3.+0.j]])"
            ]
          },
          "metadata": {
            "tags": []
          },
          "execution_count": 10
        }
      ]
    },
    {
      "cell_type": "code",
      "metadata": {
        "id": "qH_qsL6vKrVa",
        "outputId": "22d8e39c-6367-42d3-c2b2-1c894f9a012d",
        "colab": {
          "base_uri": "https://localhost:8080/"
        }
      },
      "source": [
        "import numpy as np\n",
        "np.zeros((2, 3))"
      ],
      "execution_count": null,
      "outputs": [
        {
          "output_type": "execute_result",
          "data": {
            "text/plain": [
              "array([[0., 0., 0.],\n",
              "       [0., 0., 0.]])"
            ]
          },
          "metadata": {
            "tags": []
          },
          "execution_count": 17
        }
      ]
    },
    {
      "cell_type": "code",
      "metadata": {
        "id": "UDllfynxKuf-",
        "outputId": "01720d20-b3dd-4e72-907f-844a54aea38f",
        "colab": {
          "base_uri": "https://localhost:8080/"
        }
      },
      "source": [
        "import numpy as np\n",
        "np.ones((3, 5))"
      ],
      "execution_count": null,
      "outputs": [
        {
          "output_type": "execute_result",
          "data": {
            "text/plain": [
              "array([[1., 1., 1., 1., 1.],\n",
              "       [1., 1., 1., 1., 1.],\n",
              "       [1., 1., 1., 1., 1.]])"
            ]
          },
          "metadata": {
            "tags": []
          },
          "execution_count": 21
        }
      ]
    },
    {
      "cell_type": "code",
      "metadata": {
        "id": "k_ngsPrjIBZg",
        "outputId": "2e98f9f3-42fb-4da5-9539-2f631b973342",
        "colab": {
          "base_uri": "https://localhost:8080/"
        }
      },
      "source": [
        "np.arange(15)"
      ],
      "execution_count": null,
      "outputs": [
        {
          "output_type": "execute_result",
          "data": {
            "text/plain": [
              "array([ 0,  1,  2,  3,  4,  5,  6,  7,  8,  9, 10, 11, 12, 13, 14])"
            ]
          },
          "metadata": {
            "tags": []
          },
          "execution_count": 12
        }
      ]
    },
    {
      "cell_type": "code",
      "metadata": {
        "id": "apEIaRmDMW14",
        "outputId": "99a295b0-d2a6-4582-c265-5df8c9c3fb23",
        "colab": {
          "base_uri": "https://localhost:8080/"
        }
      },
      "source": [
        "import numpy as np\n",
        "np.linspace(1., 4., 7) # start, end, num"
      ],
      "execution_count": null,
      "outputs": [
        {
          "output_type": "execute_result",
          "data": {
            "text/plain": [
              "array([1. , 1.5, 2. , 2.5, 3. , 3.5, 4. ])"
            ]
          },
          "metadata": {
            "tags": []
          },
          "execution_count": 23
        }
      ]
    },
    {
      "cell_type": "code",
      "metadata": {
        "id": "9-VL6tflMd9f",
        "outputId": "a207f27b-51e9-43b0-ea3c-76b578107964",
        "colab": {
          "base_uri": "https://localhost:8080/"
        }
      },
      "source": [
        "import numpy as np\n",
        "np.linspace(2.0, 3.0, num=3)"
      ],
      "execution_count": null,
      "outputs": [
        {
          "output_type": "execute_result",
          "data": {
            "text/plain": [
              "array([2. , 2.5, 3. ])"
            ]
          },
          "metadata": {
            "tags": []
          },
          "execution_count": 28
        }
      ]
    },
    {
      "cell_type": "code",
      "metadata": {
        "id": "DNB8OOKJM6fh",
        "outputId": "444be62c-997d-4ae2-f281-05c404e94105",
        "colab": {
          "base_uri": "https://localhost:8080/"
        }
      },
      "source": [
        "import numpy as np\n",
        "np.linspace(2.0, 3.0, num=5, endpoint=False)"
      ],
      "execution_count": null,
      "outputs": [
        {
          "output_type": "execute_result",
          "data": {
            "text/plain": [
              "array([2. , 2.2, 2.4, 2.6, 2.8])"
            ]
          },
          "metadata": {
            "tags": []
          },
          "execution_count": 29
        }
      ]
    },
    {
      "cell_type": "code",
      "metadata": {
        "id": "9jl6_CwETBF-",
        "outputId": "cc4932c4-3927-43ce-9b73-2628d3dfae4f",
        "colab": {
          "base_uri": "https://localhost:8080/",
          "height": 34
        }
      },
      "source": [
        "import numpy as np\n",
        "np.linspace(2.0, 3.0, num=5, retstep=True)"
      ],
      "execution_count": 1,
      "outputs": [
        {
          "output_type": "execute_result",
          "data": {
            "text/plain": [
              "(array([2.  , 2.25, 2.5 , 2.75, 3.  ]), 0.25)"
            ]
          },
          "metadata": {
            "tags": []
          },
          "execution_count": 1
        }
      ]
    },
    {
      "cell_type": "code",
      "metadata": {
        "id": "sE65Umx8T9Zc",
        "outputId": "0133690a-279b-4586-f73a-20efe0d33366",
        "colab": {
          "base_uri": "https://localhost:8080/",
          "height": 136
        }
      },
      "source": [
        "import numpy as np\n",
        "np.indices((3, 3))"
      ],
      "execution_count": 2,
      "outputs": [
        {
          "output_type": "execute_result",
          "data": {
            "text/plain": [
              "array([[[0, 0, 0],\n",
              "        [1, 1, 1],\n",
              "        [2, 2, 2]],\n",
              "\n",
              "       [[0, 1, 2],\n",
              "        [0, 1, 2],\n",
              "        [0, 1, 2]]])"
            ]
          },
          "metadata": {
            "tags": []
          },
          "execution_count": 2
        }
      ]
    },
    {
      "cell_type": "code",
      "metadata": {
        "id": "2AlGq9B2UIor",
        "outputId": "b8c88070-7356-4411-9f21-9ba386492a16",
        "colab": {
          "base_uri": "https://localhost:8080/",
          "height": 85
        }
      },
      "source": [
        "import numpy as np\n",
        "ar10=np.diag((2,1,4,6));\n",
        "ar10"
      ],
      "execution_count": 3,
      "outputs": [
        {
          "output_type": "execute_result",
          "data": {
            "text/plain": [
              "array([[2, 0, 0, 0],\n",
              "       [0, 1, 0, 0],\n",
              "       [0, 0, 4, 0],\n",
              "       [0, 0, 0, 6]])"
            ]
          },
          "metadata": {
            "tags": []
          },
          "execution_count": 3
        }
      ]
    },
    {
      "cell_type": "code",
      "metadata": {
        "id": "nt6YAKEZW1FM",
        "outputId": "cf1f5567-3cbe-4895-df71-227f2c23de8f",
        "colab": {
          "base_uri": "https://localhost:8080/",
          "height": 34
        }
      },
      "source": [
        "import numpy as np\n",
        "a = np.array([0, 1, 2])\n",
        "np.tile(a, 2)"
      ],
      "execution_count": 7,
      "outputs": [
        {
          "output_type": "execute_result",
          "data": {
            "text/plain": [
              "array([0, 1, 2, 0, 1, 2])"
            ]
          },
          "metadata": {
            "tags": []
          },
          "execution_count": 7
        }
      ]
    },
    {
      "cell_type": "code",
      "metadata": {
        "id": "fCbXima_W1Oh",
        "outputId": "c5991db3-5923-4d04-8f27-bf9bdf037fd6",
        "colab": {
          "base_uri": "https://localhost:8080/",
          "height": 51
        }
      },
      "source": [
        "import numpy as np\n",
        "a = np.array([0, 1, 2])\n",
        "np.tile(a, (2, 2))"
      ],
      "execution_count": 6,
      "outputs": [
        {
          "output_type": "execute_result",
          "data": {
            "text/plain": [
              "array([[0, 1, 2, 0, 1, 2],\n",
              "       [0, 1, 2, 0, 1, 2]])"
            ]
          },
          "metadata": {
            "tags": []
          },
          "execution_count": 6
        }
      ]
    },
    {
      "cell_type": "code",
      "metadata": {
        "id": "5l-cSWMDW1Wh",
        "outputId": "c7a3baa7-a206-4f8a-e7ea-945ebc18d6b6",
        "colab": {
          "base_uri": "https://localhost:8080/",
          "height": 68
        }
      },
      "source": [
        "import numpy as np\n",
        "a = np.array([0, 1, 2])\n",
        "np.tile(a, (2, 1, 2))"
      ],
      "execution_count": 5,
      "outputs": [
        {
          "output_type": "execute_result",
          "data": {
            "text/plain": [
              "array([[[0, 1, 2, 0, 1, 2]],\n",
              "\n",
              "       [[0, 1, 2, 0, 1, 2]]])"
            ]
          },
          "metadata": {
            "tags": []
          },
          "execution_count": 5
        }
      ]
    },
    {
      "cell_type": "code",
      "metadata": {
        "id": "b3DK4arnW1di",
        "outputId": "72647fe6-0e01-4cf6-9c51-76c2f0870bd3",
        "colab": {
          "base_uri": "https://localhost:8080/",
          "height": 51
        }
      },
      "source": [
        "import numpy as np\n",
        "np.tile(np.array([[1,2],[6,7]]),3)"
      ],
      "execution_count": 8,
      "outputs": [
        {
          "output_type": "execute_result",
          "data": {
            "text/plain": [
              "array([[1, 2, 1, 2, 1, 2],\n",
              "       [6, 7, 6, 7, 6, 7]])"
            ]
          },
          "metadata": {
            "tags": []
          },
          "execution_count": 8
        }
      ]
    },
    {
      "cell_type": "code",
      "metadata": {
        "id": "YOtvFnhsW1kK",
        "outputId": "53b504e2-71b9-4242-d2c9-9a86af724724",
        "colab": {
          "base_uri": "https://localhost:8080/",
          "height": 85
        }
      },
      "source": [
        "import numpy as np\n",
        "np.tile(np.array([[1,2],[6,7]]),(2,2))"
      ],
      "execution_count": 9,
      "outputs": [
        {
          "output_type": "execute_result",
          "data": {
            "text/plain": [
              "array([[1, 2, 1, 2],\n",
              "       [6, 7, 6, 7],\n",
              "       [1, 2, 1, 2],\n",
              "       [6, 7, 6, 7]])"
            ]
          },
          "metadata": {
            "tags": []
          },
          "execution_count": 9
        }
      ]
    },
    {
      "cell_type": "code",
      "metadata": {
        "id": "POWs7WC8Xmk9",
        "outputId": "bbd711d2-2e91-4025-8a93-af33df086497",
        "colab": {
          "base_uri": "https://localhost:8080/",
          "height": 68
        }
      },
      "source": [
        "import numpy as np\n",
        "np.array([range(i, i + 3) for i in [2, 4, 6]])"
      ],
      "execution_count": 10,
      "outputs": [
        {
          "output_type": "execute_result",
          "data": {
            "text/plain": [
              "array([[2, 3, 4],\n",
              "       [4, 5, 6],\n",
              "       [6, 7, 8]])"
            ]
          },
          "metadata": {
            "tags": []
          },
          "execution_count": 10
        }
      ]
    },
    {
      "cell_type": "code",
      "metadata": {
        "id": "jZLqUrwJXn4q",
        "outputId": "ece418dd-7965-452f-9dd9-fac4c7c06890",
        "colab": {
          "base_uri": "https://localhost:8080/",
          "height": 51
        }
      },
      "source": [
        "import numpy as np\n",
        "np.tile(np.array([[1,2],[6,7]]),3)"
      ],
      "execution_count": 11,
      "outputs": [
        {
          "output_type": "execute_result",
          "data": {
            "text/plain": [
              "array([[1, 2, 1, 2, 1, 2],\n",
              "       [6, 7, 6, 7, 6, 7]])"
            ]
          },
          "metadata": {
            "tags": []
          },
          "execution_count": 11
        }
      ]
    },
    {
      "cell_type": "code",
      "metadata": {
        "id": "kEt1ZHVVXn-Z",
        "outputId": "53fc3c3e-4778-49df-8176-953b449e1e2a",
        "colab": {
          "base_uri": "https://localhost:8080/",
          "height": 85
        }
      },
      "source": [
        "import numpy as np\n",
        "np.tile(np.array([[1,2],[6,7]]),(2,2))"
      ],
      "execution_count": 12,
      "outputs": [
        {
          "output_type": "execute_result",
          "data": {
            "text/plain": [
              "array([[1, 2, 1, 2],\n",
              "       [6, 7, 6, 7],\n",
              "       [1, 2, 1, 2],\n",
              "       [6, 7, 6, 7]])"
            ]
          },
          "metadata": {
            "tags": []
          },
          "execution_count": 12
        }
      ]
    },
    {
      "cell_type": "markdown",
      "metadata": {
        "id": "g9_6RsaJYxWu"
      },
      "source": [
        "NUMPY ndarray 運算\n",
        "  1.reshape\n",
        "  2.ravel()\n",
        "  3.T\n",
        "  4.newaxis"
      ]
    },
    {
      "cell_type": "code",
      "metadata": {
        "id": "JQKoVdreXvTa",
        "outputId": "20bf12e7-22ba-486d-f244-66523db4bd10",
        "colab": {
          "base_uri": "https://localhost:8080/",
          "height": 51
        }
      },
      "source": [
        "import numpy as np\n",
        "x = np.arange(2,10).reshape(2,4)\n",
        "x"
      ],
      "execution_count": 13,
      "outputs": [
        {
          "output_type": "execute_result",
          "data": {
            "text/plain": [
              "array([[2, 3, 4, 5],\n",
              "       [6, 7, 8, 9]])"
            ]
          },
          "metadata": {
            "tags": []
          },
          "execution_count": 13
        }
      ]
    },
    {
      "cell_type": "code",
      "metadata": {
        "id": "NL7ix-U-XvYM",
        "outputId": "fec65d86-9cce-41fa-b803-8ceb043e5882",
        "colab": {
          "base_uri": "https://localhost:8080/",
          "height": 85
        }
      },
      "source": [
        "import numpy as np\n",
        "y = np.arange(2,10).reshape(4,2)\n",
        "y"
      ],
      "execution_count": 14,
      "outputs": [
        {
          "output_type": "execute_result",
          "data": {
            "text/plain": [
              "array([[2, 3],\n",
              "       [4, 5],\n",
              "       [6, 7],\n",
              "       [8, 9]])"
            ]
          },
          "metadata": {
            "tags": []
          },
          "execution_count": 14
        }
      ]
    },
    {
      "cell_type": "code",
      "metadata": {
        "id": "Hx7onAwrZFS9",
        "outputId": "a61ee47a-7404-4084-9eb9-ac9518573c4f",
        "colab": {
          "base_uri": "https://localhost:8080/",
          "height": 51
        }
      },
      "source": [
        "import numpy as np\n",
        "ar=np.array([np.arange(1,6),np.arange(10,15)]); \n",
        "ar"
      ],
      "execution_count": 15,
      "outputs": [
        {
          "output_type": "execute_result",
          "data": {
            "text/plain": [
              "array([[ 1,  2,  3,  4,  5],\n",
              "       [10, 11, 12, 13, 14]])"
            ]
          },
          "metadata": {
            "tags": []
          },
          "execution_count": 15
        }
      ]
    },
    {
      "cell_type": "code",
      "metadata": {
        "id": "0DtJtttUZFb5",
        "outputId": "3963ec7f-d5ff-49bf-e4dd-134d005df01d",
        "colab": {
          "base_uri": "https://localhost:8080/",
          "height": 34
        }
      },
      "source": [
        "import numpy as np\n",
        "ar=np.array([np.arange(1,6),np.arange(10,15)])\n",
        "ar.ravel()"
      ],
      "execution_count": 16,
      "outputs": [
        {
          "output_type": "execute_result",
          "data": {
            "text/plain": [
              "array([ 1,  2,  3,  4,  5, 10, 11, 12, 13, 14])"
            ]
          },
          "metadata": {
            "tags": []
          },
          "execution_count": 16
        }
      ]
    },
    {
      "cell_type": "code",
      "metadata": {
        "id": "XWdfcKnDZXmj",
        "outputId": "9537815b-eacd-4d2b-9187-8908d787ec1d",
        "colab": {
          "base_uri": "https://localhost:8080/",
          "height": 102
        }
      },
      "source": [
        "import numpy as np\n",
        "ar=np.array([np.arange(1,6),np.arange(10,15)])\n",
        "ar.T"
      ],
      "execution_count": 17,
      "outputs": [
        {
          "output_type": "execute_result",
          "data": {
            "text/plain": [
              "array([[ 1, 10],\n",
              "       [ 2, 11],\n",
              "       [ 3, 12],\n",
              "       [ 4, 13],\n",
              "       [ 5, 14]])"
            ]
          },
          "metadata": {
            "tags": []
          },
          "execution_count": 17
        }
      ]
    },
    {
      "cell_type": "code",
      "metadata": {
        "id": "wAtoMd8dZXra",
        "outputId": "8376286d-af32-471e-8b4d-7656fe048887",
        "colab": {
          "base_uri": "https://localhost:8080/",
          "height": 68
        }
      },
      "source": [
        "import numpy as np\n",
        "ar=ar[:, np.newaxis]; ar.shape\n",
        "ar"
      ],
      "execution_count": 18,
      "outputs": [
        {
          "output_type": "execute_result",
          "data": {
            "text/plain": [
              "array([[[ 1,  2,  3,  4,  5]],\n",
              "\n",
              "       [[10, 11, 12, 13, 14]]])"
            ]
          },
          "metadata": {
            "tags": []
          },
          "execution_count": 18
        }
      ]
    },
    {
      "cell_type": "code",
      "metadata": {
        "id": "vWAqrAXKZXvx",
        "outputId": "0464f84f-9943-4dbb-92ad-ff776a499900",
        "colab": {
          "base_uri": "https://localhost:8080/",
          "height": 34
        }
      },
      "source": [
        "import numpy as np\n",
        "ar=np.array([np.arange(1,6),np.arange(10,15)])\n",
        "ar.T.ravel()"
      ],
      "execution_count": 19,
      "outputs": [
        {
          "output_type": "execute_result",
          "data": {
            "text/plain": [
              "array([ 1, 10,  2, 11,  3, 12,  4, 13,  5, 14])"
            ]
          },
          "metadata": {
            "tags": []
          },
          "execution_count": 19
        }
      ]
    },
    {
      "cell_type": "code",
      "metadata": {
        "id": "bc9DsKCna2lw",
        "outputId": "30285934-bfdf-41ca-e158-ad93fb2434bd",
        "colab": {
          "base_uri": "https://localhost:8080/",
          "height": 34
        }
      },
      "source": [
        "import numpy as np\n",
        "ar=np.array([14,15,16])\n",
        "ar=ar[:, np.newaxis]\n",
        "ar.shape"
      ],
      "execution_count": 20,
      "outputs": [
        {
          "output_type": "execute_result",
          "data": {
            "text/plain": [
              "(3, 1)"
            ]
          },
          "metadata": {
            "tags": []
          },
          "execution_count": 20
        }
      ]
    },
    {
      "cell_type": "markdown",
      "metadata": {
        "id": "cKktP9ZRdBGN"
      },
      "source": [
        "ndarray的索引(index)與切片運算(slice)"
      ]
    },
    {
      "cell_type": "code",
      "metadata": {
        "id": "XbA6NtENa2pR",
        "outputId": "eda14339-a7e8-4c0b-ef7e-028aac1005be",
        "colab": {
          "base_uri": "https://localhost:8080/",
          "height": 68
        }
      },
      "source": [
        "import numpy as np #索引(index)\n",
        "x = np.arange(2,10)\n",
        "# x\n",
        "print(x[0])\n",
        "print(x[-2])\n",
        "print(x[-1])"
      ],
      "execution_count": 21,
      "outputs": [
        {
          "output_type": "stream",
          "text": [
            "2\n",
            "8\n",
            "9\n"
          ],
          "name": "stdout"
        }
      ]
    },
    {
      "cell_type": "code",
      "metadata": {
        "id": "kmgY245kbAOT",
        "outputId": "4b5424b0-cec3-4b33-ac19-63036af2d95a",
        "colab": {
          "base_uri": "https://localhost:8080/",
          "height": 34
        }
      },
      "source": [
        "import numpy as np\n",
        "ar = np.array([[2,3,4],[9,8,7],[11,12,13]])\n",
        "ar[1,2]"
      ],
      "execution_count": 22,
      "outputs": [
        {
          "output_type": "execute_result",
          "data": {
            "text/plain": [
              "7"
            ]
          },
          "metadata": {
            "tags": []
          },
          "execution_count": 22
        }
      ]
    },
    {
      "cell_type": "markdown",
      "metadata": {
        "id": "wFRTJM9WdO6j"
      },
      "source": [
        "切片運算(slice)"
      ]
    },
    {
      "cell_type": "code",
      "metadata": {
        "id": "7K1v8NyJdOR7",
        "outputId": "4ebf4645-132d-485f-c054-72bea097e627",
        "colab": {
          "base_uri": "https://localhost:8080/",
          "height": 34
        }
      },
      "source": [
        "import numpy as np\n",
        "ar=2*np.arange(6)\n",
        "# ar\n",
        "ar[1:5:2]"
      ],
      "execution_count": 36,
      "outputs": [
        {
          "output_type": "execute_result",
          "data": {
            "text/plain": [
              "array([2, 6])"
            ]
          },
          "metadata": {
            "tags": []
          },
          "execution_count": 36
        }
      ]
    },
    {
      "cell_type": "code",
      "metadata": {
        "id": "Bxxjt57JdOb7",
        "outputId": "f58fa681-bacd-48e7-ab4c-3968fdc53c25",
        "colab": {
          "base_uri": "https://localhost:8080/",
          "height": 34
        }
      },
      "source": [
        "import numpy as np\n",
        "ar=2*np.arange(6)\n",
        "# ar\n",
        "ar[1:6:2]"
      ],
      "execution_count": 37,
      "outputs": [
        {
          "output_type": "execute_result",
          "data": {
            "text/plain": [
              "array([ 2,  6, 10])"
            ]
          },
          "metadata": {
            "tags": []
          },
          "execution_count": 37
        }
      ]
    },
    {
      "cell_type": "code",
      "metadata": {
        "id": "lEKVTgdldTkF",
        "outputId": "7909aa05-b090-430a-91d4-492c9e9e2df9",
        "colab": {
          "base_uri": "https://localhost:8080/",
          "height": 34
        }
      },
      "source": [
        "import numpy as np\n",
        "ar=2*np.arange(6)\n",
        "# ar\n",
        "ar[:4]"
      ],
      "execution_count": 38,
      "outputs": [
        {
          "output_type": "execute_result",
          "data": {
            "text/plain": [
              "array([0, 2, 4, 6])"
            ]
          },
          "metadata": {
            "tags": []
          },
          "execution_count": 38
        }
      ]
    },
    {
      "cell_type": "markdown",
      "metadata": {
        "id": "6KM5r8Y9dWlL"
      },
      "source": [
        "測驗"
      ]
    },
    {
      "cell_type": "code",
      "metadata": {
        "id": "5eT4bQojbAUT",
        "outputId": "6e8486c6-8da2-4691-edae-8acd797029ac",
        "colab": {
          "base_uri": "https://localhost:8080/",
          "height": 34
        }
      },
      "source": [
        "import numpy as np\n",
        "ar = np.array([[2,3,4],[9,8,7],[11,12,13]])\n",
        "# ar\n",
        "ar[:,1]  "
      ],
      "execution_count": 23,
      "outputs": [
        {
          "output_type": "execute_result",
          "data": {
            "text/plain": [
              "array([ 3,  8, 12])"
            ]
          },
          "metadata": {
            "tags": []
          },
          "execution_count": 23
        }
      ]
    },
    {
      "cell_type": "code",
      "metadata": {
        "id": "2b6FD6IkbyyE",
        "outputId": "83579149-b3ac-4b3d-f42b-395c04791a93",
        "colab": {
          "base_uri": "https://localhost:8080/",
          "height": 34
        }
      },
      "source": [
        "import numpy as np\n",
        "ar = np.array([[2,3,4],[9,8,7],[11,12,13]])\n",
        "# ar\n",
        "ar[2,-1]"
      ],
      "execution_count": 24,
      "outputs": [
        {
          "output_type": "execute_result",
          "data": {
            "text/plain": [
              "13"
            ]
          },
          "metadata": {
            "tags": []
          },
          "execution_count": 24
        }
      ]
    },
    {
      "cell_type": "code",
      "metadata": {
        "id": "ud99EZrYb5uj",
        "outputId": "9ccb4deb-bd52-422d-d341-aed380654a94",
        "colab": {
          "base_uri": "https://localhost:8080/",
          "height": 34
        }
      },
      "source": [
        "import numpy as np\n",
        "ar=2*np.arange(6)\n",
        "# ar\n",
        "ar[::3]"
      ],
      "execution_count": 25,
      "outputs": [
        {
          "output_type": "execute_result",
          "data": {
            "text/plain": [
              "array([0, 6])"
            ]
          },
          "metadata": {
            "tags": []
          },
          "execution_count": 25
        }
      ]
    },
    {
      "cell_type": "code",
      "metadata": {
        "id": "Nli8gm87b5w4",
        "outputId": "7d1a55a1-1523-436e-ed0e-5232cb002454",
        "colab": {
          "base_uri": "https://localhost:8080/",
          "height": 34
        }
      },
      "source": [
        "import numpy as np\n",
        "ar=2*np.arange(6)\n",
        "# ar\n",
        "ar[:3]=1\n",
        "ar"
      ],
      "execution_count": 26,
      "outputs": [
        {
          "output_type": "execute_result",
          "data": {
            "text/plain": [
              "array([ 1,  1,  1,  6,  8, 10])"
            ]
          },
          "metadata": {
            "tags": []
          },
          "execution_count": 26
        }
      ]
    },
    {
      "cell_type": "code",
      "metadata": {
        "id": "nKJ6dDu7b9OK",
        "outputId": "20d5014c-ea91-48d6-8da6-4cfd03760350",
        "colab": {
          "base_uri": "https://localhost:8080/",
          "height": 34
        }
      },
      "source": [
        "import numpy as np\n",
        "ar=2*np.arange(6)\n",
        "# ar\n",
        "ar[2:]=np.ones(4)\n",
        "ar"
      ],
      "execution_count": 27,
      "outputs": [
        {
          "output_type": "execute_result",
          "data": {
            "text/plain": [
              "array([0, 2, 1, 1, 1, 1])"
            ]
          },
          "metadata": {
            "tags": []
          },
          "execution_count": 27
        }
      ]
    },
    {
      "cell_type": "markdown",
      "metadata": {
        "id": "VbD8bdQ7c18y"
      },
      "source": [
        "ndarray的Reduction 運算:prod()|sum()|mean()|median()"
      ]
    },
    {
      "cell_type": "code",
      "metadata": {
        "id": "aCOfJ35UcNF0",
        "outputId": "dfb84d73-cc7d-4638-e4d3-465a1f6bee94",
        "colab": {
          "base_uri": "https://localhost:8080/",
          "height": 34
        }
      },
      "source": [
        "import numpy as np\n",
        "ar=np.arange(1,5)\n",
        "ar.prod()\n"
      ],
      "execution_count": 29,
      "outputs": [
        {
          "output_type": "execute_result",
          "data": {
            "text/plain": [
              "24"
            ]
          },
          "metadata": {
            "tags": []
          },
          "execution_count": 29
        }
      ]
    },
    {
      "cell_type": "code",
      "metadata": {
        "id": "eQEPrkkjcUhM",
        "outputId": "3993ede5-e47f-4d2a-a047-b957f7f1a96f",
        "colab": {
          "base_uri": "https://localhost:8080/",
          "height": 34
        }
      },
      "source": [
        "import numpy as np\n",
        "ar=np.array([[2,3,4],[5,6,7],[8,9,10]])\n",
        "ar.sum()"
      ],
      "execution_count": 30,
      "outputs": [
        {
          "output_type": "execute_result",
          "data": {
            "text/plain": [
              "54"
            ]
          },
          "metadata": {
            "tags": []
          },
          "execution_count": 30
        }
      ]
    },
    {
      "cell_type": "code",
      "metadata": {
        "id": "H2mfq67TcaUE",
        "outputId": "4b5861ab-76c3-470f-f460-0ece8ced1603",
        "colab": {
          "base_uri": "https://localhost:8080/",
          "height": 34
        }
      },
      "source": [
        "import numpy as np\n",
        "ar=np.array([[2,3,4],[5,6,7],[8,9,10]])\n",
        "ar.mean()"
      ],
      "execution_count": 32,
      "outputs": [
        {
          "output_type": "execute_result",
          "data": {
            "text/plain": [
              "6.0"
            ]
          },
          "metadata": {
            "tags": []
          },
          "execution_count": 32
        }
      ]
    },
    {
      "cell_type": "code",
      "metadata": {
        "id": "1RyJ26C0caXr",
        "outputId": "93b86022-5d81-4f2d-bd63-289fae4bbb77",
        "colab": {
          "base_uri": "https://localhost:8080/",
          "height": 34
        }
      },
      "source": [
        "import numpy as np\n",
        "ar=np.array([[2,3,4],[5,6,7],[8,9,10]])\n",
        "np.median(ar)"
      ],
      "execution_count": 31,
      "outputs": [
        {
          "output_type": "execute_result",
          "data": {
            "text/plain": [
              "6.0"
            ]
          },
          "metadata": {
            "tags": []
          },
          "execution_count": 31
        }
      ]
    },
    {
      "cell_type": "code",
      "metadata": {
        "id": "FLCCz-wqb_w2",
        "outputId": "06918491-3dd6-4f00-e41a-9f612de2549a",
        "colab": {
          "base_uri": "https://localhost:8080/",
          "height": 34
        }
      },
      "source": [
        "import numpy as np\n",
        "\n",
        "ar=np.array([np.arange(1,6),np.arange(1,6)])\n",
        "# ar\n",
        "np.prod(ar,axis=0)"
      ],
      "execution_count": 34,
      "outputs": [
        {
          "output_type": "execute_result",
          "data": {
            "text/plain": [
              "array([ 1,  4,  9, 16, 25])"
            ]
          },
          "metadata": {
            "tags": []
          },
          "execution_count": 34
        }
      ]
    },
    {
      "cell_type": "code",
      "metadata": {
        "id": "Y_CAiJG2cp0_",
        "outputId": "8944b01e-05f9-4259-a653-ebde1aef8cd6",
        "colab": {
          "base_uri": "https://localhost:8080/",
          "height": 34
        }
      },
      "source": [
        "ar=np.array([np.arange(1,6),np.arange(1,6)])\n",
        "# ar\n",
        "np.prod(ar,axis=1)"
      ],
      "execution_count": 35,
      "outputs": [
        {
          "output_type": "execute_result",
          "data": {
            "text/plain": [
              "array([120, 120])"
            ]
          },
          "metadata": {
            "tags": []
          },
          "execution_count": 35
        }
      ]
    }
  ]
}